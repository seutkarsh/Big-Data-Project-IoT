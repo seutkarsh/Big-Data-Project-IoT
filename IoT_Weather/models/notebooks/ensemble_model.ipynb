{
 "cells": [
  {
   "cell_type": "code",
   "execution_count": 1,
   "metadata": {},
   "outputs": [],
   "source": [
    "import numpy as np\n",
    "import pandas as pd\n",
    "from sklearn.preprocessing import LabelEncoder\n",
    "from sklearn.model_selection import train_test_split\n",
    "from tensorflow import keras\n",
    "from keras.models import load_model\n",
    "from sklearn.ensemble import VotingClassifier\n",
    "import pickle\n",
    "from keras.wrappers.scikit_learn import KerasClassifier\n",
    "from sklearn.metrics import classification_report, accuracy_score, f1_score, precision_score, recall_score\n",
    "import time"
   ]
  },
  {
   "cell_type": "code",
   "execution_count": 2,
   "metadata": {},
   "outputs": [
    {
     "data": {
      "text/html": [
       "<div>\n",
       "<style scoped>\n",
       "    .dataframe tbody tr th:only-of-type {\n",
       "        vertical-align: middle;\n",
       "    }\n",
       "\n",
       "    .dataframe tbody tr th {\n",
       "        vertical-align: top;\n",
       "    }\n",
       "\n",
       "    .dataframe thead th {\n",
       "        text-align: right;\n",
       "    }\n",
       "</style>\n",
       "<table border=\"1\" class=\"dataframe\">\n",
       "  <thead>\n",
       "    <tr style=\"text-align: right;\">\n",
       "      <th></th>\n",
       "      <th>date</th>\n",
       "      <th>time</th>\n",
       "      <th>temperature</th>\n",
       "      <th>pressure</th>\n",
       "      <th>humidity</th>\n",
       "      <th>label</th>\n",
       "      <th>type</th>\n",
       "    </tr>\n",
       "  </thead>\n",
       "  <tbody>\n",
       "    <tr>\n",
       "      <th>0</th>\n",
       "      <td>28-Apr-19</td>\n",
       "      <td>06:59:35</td>\n",
       "      <td>38.184990</td>\n",
       "      <td>1.035</td>\n",
       "      <td>99.448695</td>\n",
       "      <td>1</td>\n",
       "      <td>0</td>\n",
       "    </tr>\n",
       "    <tr>\n",
       "      <th>1</th>\n",
       "      <td>28-Apr-19</td>\n",
       "      <td>06:59:40</td>\n",
       "      <td>38.680906</td>\n",
       "      <td>1.035</td>\n",
       "      <td>99.448695</td>\n",
       "      <td>1</td>\n",
       "      <td>0</td>\n",
       "    </tr>\n",
       "    <tr>\n",
       "      <th>2</th>\n",
       "      <td>28-Apr-19</td>\n",
       "      <td>06:59:45</td>\n",
       "      <td>38.531486</td>\n",
       "      <td>1.035</td>\n",
       "      <td>99.448695</td>\n",
       "      <td>1</td>\n",
       "      <td>0</td>\n",
       "    </tr>\n",
       "    <tr>\n",
       "      <th>3</th>\n",
       "      <td>28-Apr-19</td>\n",
       "      <td>06:59:50</td>\n",
       "      <td>38.336073</td>\n",
       "      <td>1.035</td>\n",
       "      <td>99.448695</td>\n",
       "      <td>1</td>\n",
       "      <td>0</td>\n",
       "    </tr>\n",
       "    <tr>\n",
       "      <th>4</th>\n",
       "      <td>28-Apr-19</td>\n",
       "      <td>06:59:55</td>\n",
       "      <td>38.611960</td>\n",
       "      <td>1.035</td>\n",
       "      <td>99.448695</td>\n",
       "      <td>1</td>\n",
       "      <td>0</td>\n",
       "    </tr>\n",
       "  </tbody>\n",
       "</table>\n",
       "</div>"
      ],
      "text/plain": [
       "        date        time  temperature  pressure   humidity  label  type\n",
       "0  28-Apr-19   06:59:35     38.184990     1.035  99.448695      1     0\n",
       "1  28-Apr-19   06:59:40     38.680906     1.035  99.448695      1     0\n",
       "2  28-Apr-19   06:59:45     38.531486     1.035  99.448695      1     0\n",
       "3  28-Apr-19   06:59:50     38.336073     1.035  99.448695      1     0\n",
       "4  28-Apr-19   06:59:55     38.611960     1.035  99.448695      1     0"
      ]
     },
     "execution_count": 2,
     "metadata": {},
     "output_type": "execute_result"
    }
   ],
   "source": [
    "IoT = pd.read_csv('../../data/test_Weather.csv')\n",
    "# IoT = IoT.iloc[0:500]\n",
    "\n",
    "IoT = IoT.dropna()\n",
    "\n",
    "encoder=LabelEncoder()\n",
    "IoT['type']=encoder.fit_transform(IoT['type'])\n",
    "\n",
    "\n",
    "IoT.head()"
   ]
  },
  {
   "cell_type": "code",
   "execution_count": 3,
   "metadata": {},
   "outputs": [],
   "source": [
    "x = IoT.drop(['label', 'date', 'time', 'type'], axis=1)\n",
    "y = IoT['type']\n",
    "\n",
    "features=len(x.columns)\n",
    "\n",
    "x_train,x_test,y_train,y_test = train_test_split(x, y, test_size=0.2)"
   ]
  },
  {
   "cell_type": "code",
   "execution_count": 4,
   "metadata": {},
   "outputs": [],
   "source": [
    "model3 = pickle.load(open('../h5s/random-forest.h5', 'rb'))\n",
    "model4 = pickle.load(open('../h5s/logistic-regression.h5', 'rb'))\n",
    "model5 = pickle.load(open('../h5s/linear-discriminant-analysis.h5', 'rb'))\n",
    "model6 = pickle.load(open('../h5s/kNN.h5', 'rb'))\n",
    "model7 = pickle.load(open('../h5s/CART.h5', 'rb'))\n",
    "model8 = pickle.load(open('../h5s/support-vector-machine.h5', 'rb'))\n",
    "model9 = pickle.load(open('../h5s/naive-bayes.h5', 'rb'))"
   ]
  },
  {
   "cell_type": "code",
   "execution_count": 5,
   "metadata": {},
   "outputs": [
    {
     "name": "stderr",
     "output_type": "stream",
     "text": [
      "c:\\Users\\sharm\\anaconda3\\lib\\site-packages\\sklearn\\linear_model\\_logistic.py:814: ConvergenceWarning: lbfgs failed to converge (status=1):\n",
      "STOP: TOTAL NO. of ITERATIONS REACHED LIMIT.\n",
      "\n",
      "Increase the number of iterations (max_iter) or scale the data as shown in:\n",
      "    https://scikit-learn.org/stable/modules/preprocessing.html\n",
      "Please also refer to the documentation for alternative solver options:\n",
      "    https://scikit-learn.org/stable/modules/linear_model.html#logistic-regression\n",
      "  n_iter_i = _check_optimize_result(\n"
     ]
    },
    {
     "name": "stdout",
     "output_type": "stream",
     "text": [
      "RandomForestClassifier accuracy :  0.9842569269521411\n",
      "RandomForestClassifier precision :  0.9843443048092889\n",
      "RandomForestClassifier recall :  0.9842569269521411\n",
      "RandomForestClassifier f1_score :  0.9842740180360547\n",
      "RandomForestClassifier train time :  1.435293436050415  sec\n",
      "RandomForestClassifier test time :  0.09375  sec\n",
      "\n",
      "\n"
     ]
    },
    {
     "name": "stderr",
     "output_type": "stream",
     "text": [
      "c:\\Users\\sharm\\anaconda3\\lib\\site-packages\\sklearn\\linear_model\\_logistic.py:814: ConvergenceWarning: lbfgs failed to converge (status=1):\n",
      "STOP: TOTAL NO. of ITERATIONS REACHED LIMIT.\n",
      "\n",
      "Increase the number of iterations (max_iter) or scale the data as shown in:\n",
      "    https://scikit-learn.org/stable/modules/preprocessing.html\n",
      "Please also refer to the documentation for alternative solver options:\n",
      "    https://scikit-learn.org/stable/modules/linear_model.html#logistic-regression\n",
      "  n_iter_i = _check_optimize_result(\n"
     ]
    },
    {
     "name": "stdout",
     "output_type": "stream",
     "text": [
      "LogisticRegression accuracy :  0.3929471032745592\n",
      "LogisticRegression precision :  0.37884076710081077\n",
      "LogisticRegression recall :  0.3929471032745592\n",
      "LogisticRegression f1_score :  0.37001892986061746\n",
      "LogisticRegression train time :  0.5301291942596436  sec\n",
      "LogisticRegression test time :  0.0019941329956054688  sec\n",
      "\n",
      "\n",
      "LinearDiscriminantAnalysis accuracy :  0.3721662468513854\n",
      "LinearDiscriminantAnalysis precision :  0.382634477876954\n",
      "LinearDiscriminantAnalysis recall :  0.3721662468513854\n",
      "LinearDiscriminantAnalysis f1_score :  0.3483982859240781\n",
      "LinearDiscriminantAnalysis train time :  0.008974552154541016  sec\n",
      "LinearDiscriminantAnalysis test time :  0.0009970664978027344  sec\n",
      "\n",
      "\n",
      "KNeighborsClassifier accuracy :  0.9534005037783375\n",
      "KNeighborsClassifier precision :  0.9548374475155568\n",
      "KNeighborsClassifier recall :  0.9534005037783375\n",
      "KNeighborsClassifier f1_score :  0.9536773869090939\n",
      "KNeighborsClassifier train time :  0.007982015609741211  sec\n",
      "KNeighborsClassifier test time :  0.049863338470458984  sec\n",
      "\n",
      "\n",
      "DecisionTreeClassifier accuracy :  0.9741813602015114\n",
      "DecisionTreeClassifier precision :  0.9745382839920198\n",
      "DecisionTreeClassifier recall :  0.9741813602015114\n",
      "DecisionTreeClassifier f1_score :  0.9742460336365909\n",
      "DecisionTreeClassifier train time :  0.019945383071899414  sec\n",
      "DecisionTreeClassifier test time :  0.0019948482513427734  sec\n",
      "\n",
      "\n",
      "SVC accuracy :  0.5661209068010076\n",
      "SVC precision :  0.6285123146639885\n",
      "SVC recall :  0.5661209068010076\n",
      "SVC f1_score :  0.5627251437749703\n",
      "SVC train time :  3.1697731018066406  sec\n",
      "SVC test time :  2.6972289085388184  sec\n",
      "\n",
      "\n",
      "GaussianNB accuracy :  0.5100755667506297\n",
      "GaussianNB precision :  0.5249892809142114\n",
      "GaussianNB recall :  0.5100755667506297\n",
      "GaussianNB f1_score :  0.5127229020971142\n",
      "GaussianNB train time :  0.006976604461669922  sec\n",
      "GaussianNB test time :  0.001995563507080078  sec\n",
      "\n",
      "\n"
     ]
    },
    {
     "name": "stderr",
     "output_type": "stream",
     "text": [
      "c:\\Users\\sharm\\anaconda3\\lib\\site-packages\\sklearn\\linear_model\\_logistic.py:814: ConvergenceWarning: lbfgs failed to converge (status=1):\n",
      "STOP: TOTAL NO. of ITERATIONS REACHED LIMIT.\n",
      "\n",
      "Increase the number of iterations (max_iter) or scale the data as shown in:\n",
      "    https://scikit-learn.org/stable/modules/preprocessing.html\n",
      "Please also refer to the documentation for alternative solver options:\n",
      "    https://scikit-learn.org/stable/modules/linear_model.html#logistic-regression\n",
      "  n_iter_i = _check_optimize_result(\n"
     ]
    },
    {
     "name": "stdout",
     "output_type": "stream",
     "text": [
      "VotingClassifier accuracy :  0.8198992443324937\n",
      "VotingClassifier precision :  0.8457678277435048\n",
      "VotingClassifier recall :  0.8198992443324937\n",
      "VotingClassifier f1_score :  0.8239986785014213\n",
      "VotingClassifier train time :  5.935709238052368  sec\n",
      "VotingClassifier test time :  1.3224003314971924  sec\n",
      "\n",
      "\n"
     ]
    }
   ],
   "source": [
    "voting = VotingClassifier(estimators=[('RF', model3), ('LR', model4), ('LDA', model5), ('KNN', model6), ('CART', model7), ('SVM', model8), ('Naive-Bayes', model9)], voting='hard')\n",
    "voting.fit(x_train, y_train) \n",
    "\n",
    "for clf in (model3, model4, model5, model6, model7, model8, model9, voting):\n",
    "    train_start_time=time.time()\n",
    "    clf.fit(x_train, y_train)\n",
    "    train_end_time=time.time()\n",
    "    test_start_time=time.time()\n",
    "    y_pred = clf.predict(x_test)\n",
    "    test_end_time=time.time()\n",
    "    print(clf.__class__.__name__, 'accuracy : ', accuracy_score(y_test, y_pred))\n",
    "    print(clf.__class__.__name__, 'precision : ', precision_score(y_test, y_pred, average='weighted', labels=np.unique(y_pred)))\n",
    "    print(clf.__class__.__name__, 'recall : ', recall_score(y_test, y_pred, average='weighted', labels=np.unique(y_pred)))\n",
    "    print(clf.__class__.__name__, 'f1_score : ', f1_score(y_test, y_pred, average='weighted', labels=np.unique(y_pred)))\n",
    "    print(clf.__class__.__name__, 'train time : ', train_end_time-train_start_time, ' sec')\n",
    "    print(clf.__class__.__name__, 'test time : ', test_end_time-test_start_time, ' sec')\n",
    "    print('\\n')"
   ]
  },
  {
   "cell_type": "code",
   "execution_count": 6,
   "metadata": {},
   "outputs": [
    {
     "name": "stderr",
     "output_type": "stream",
     "text": [
      "c:\\Users\\sharm\\anaconda3\\lib\\site-packages\\sklearn\\linear_model\\_logistic.py:814: ConvergenceWarning: lbfgs failed to converge (status=1):\n",
      "STOP: TOTAL NO. of ITERATIONS REACHED LIMIT.\n",
      "\n",
      "Increase the number of iterations (max_iter) or scale the data as shown in:\n",
      "    https://scikit-learn.org/stable/modules/preprocessing.html\n",
      "Please also refer to the documentation for alternative solver options:\n",
      "    https://scikit-learn.org/stable/modules/linear_model.html#logistic-regression\n",
      "  n_iter_i = _check_optimize_result(\n"
     ]
    },
    {
     "name": "stdout",
     "output_type": "stream",
     "text": [
      "SVC accuracy :  0.5661209068010076\n",
      "SVC precision :  0.6285123146639885\n",
      "SVC recall :  0.5661209068010076\n",
      "SVC f1_score :  0.5627251437749703\n",
      "SVC train time :  4.297905921936035  sec\n",
      "SVC test time :  3.1619327068328857  sec\n",
      "\n",
      "\n",
      "GaussianNB accuracy :  0.5100755667506297\n",
      "GaussianNB precision :  0.5249892809142114\n",
      "GaussianNB recall :  0.5100755667506297\n",
      "GaussianNB f1_score :  0.5127229020971142\n",
      "GaussianNB train time :  0.004986763000488281  sec\n",
      "GaussianNB test time :  0.002800464630126953  sec\n",
      "\n",
      "\n",
      "RandomForestClassifier accuracy :  0.9848866498740554\n",
      "RandomForestClassifier precision :  0.984926007556675\n",
      "RandomForestClassifier recall :  0.9848866498740554\n",
      "RandomForestClassifier f1_score :  0.9848998549604142\n",
      "RandomForestClassifier train time :  1.0706658363342285  sec\n",
      "RandomForestClassifier test time :  0.10623407363891602  sec\n",
      "\n",
      "\n"
     ]
    },
    {
     "name": "stderr",
     "output_type": "stream",
     "text": [
      "c:\\Users\\sharm\\anaconda3\\lib\\site-packages\\sklearn\\linear_model\\_logistic.py:814: ConvergenceWarning: lbfgs failed to converge (status=1):\n",
      "STOP: TOTAL NO. of ITERATIONS REACHED LIMIT.\n",
      "\n",
      "Increase the number of iterations (max_iter) or scale the data as shown in:\n",
      "    https://scikit-learn.org/stable/modules/preprocessing.html\n",
      "Please also refer to the documentation for alternative solver options:\n",
      "    https://scikit-learn.org/stable/modules/linear_model.html#logistic-regression\n",
      "  n_iter_i = _check_optimize_result(\n"
     ]
    },
    {
     "name": "stdout",
     "output_type": "stream",
     "text": [
      "LogisticRegression accuracy :  0.3929471032745592\n",
      "LogisticRegression precision :  0.37884076710081077\n",
      "LogisticRegression recall :  0.3929471032745592\n",
      "LogisticRegression f1_score :  0.37001892986061746\n",
      "LogisticRegression train time :  1.1888935565948486  sec\n",
      "LogisticRegression test time :  0.0029926300048828125  sec\n",
      "\n",
      "\n",
      "LinearDiscriminantAnalysis accuracy :  0.3721662468513854\n",
      "LinearDiscriminantAnalysis precision :  0.382634477876954\n",
      "LinearDiscriminantAnalysis recall :  0.3721662468513854\n",
      "LinearDiscriminantAnalysis f1_score :  0.3483982859240781\n",
      "LinearDiscriminantAnalysis train time :  0.02593064308166504  sec\n",
      "LinearDiscriminantAnalysis test time :  0.0029938220977783203  sec\n",
      "\n",
      "\n",
      "KNeighborsClassifier accuracy :  0.9534005037783375\n",
      "KNeighborsClassifier precision :  0.9548374475155568\n",
      "KNeighborsClassifier recall :  0.9534005037783375\n",
      "KNeighborsClassifier f1_score :  0.9536773869090939\n",
      "KNeighborsClassifier train time :  0.02393817901611328  sec\n",
      "KNeighborsClassifier test time :  0.1934809684753418  sec\n",
      "\n",
      "\n",
      "DecisionTreeClassifier accuracy :  0.9710327455919395\n",
      "DecisionTreeClassifier precision :  0.9713671016528349\n",
      "DecisionTreeClassifier recall :  0.9710327455919395\n",
      "DecisionTreeClassifier f1_score :  0.9711007266123716\n",
      "DecisionTreeClassifier train time :  0.05285787582397461  sec\n",
      "DecisionTreeClassifier test time :  0.004990100860595703  sec\n",
      "\n",
      "\n"
     ]
    },
    {
     "name": "stderr",
     "output_type": "stream",
     "text": [
      "c:\\Users\\sharm\\anaconda3\\lib\\site-packages\\sklearn\\linear_model\\_logistic.py:814: ConvergenceWarning: lbfgs failed to converge (status=1):\n",
      "STOP: TOTAL NO. of ITERATIONS REACHED LIMIT.\n",
      "\n",
      "Increase the number of iterations (max_iter) or scale the data as shown in:\n",
      "    https://scikit-learn.org/stable/modules/preprocessing.html\n",
      "Please also refer to the documentation for alternative solver options:\n",
      "    https://scikit-learn.org/stable/modules/linear_model.html#logistic-regression\n",
      "  n_iter_i = _check_optimize_result(\n"
     ]
    },
    {
     "name": "stdout",
     "output_type": "stream",
     "text": [
      "VotingClassifier accuracy :  0.8192695214105793\n",
      "VotingClassifier precision :  0.8450540606197205\n",
      "VotingClassifier recall :  0.8192695214105793\n",
      "VotingClassifier f1_score :  0.8232994368134506\n",
      "VotingClassifier train time :  6.386199712753296  sec\n",
      "VotingClassifier test time :  3.0988283157348633  sec\n",
      "\n",
      "\n"
     ]
    }
   ],
   "source": [
    "voting = VotingClassifier(estimators=[('SVM', model8), ('Naive-Bayes', model9), ('RF', model3), ('LR', model4), ('LDA', model5), ('KNN', model6), ('CART', model7)], voting='hard')\n",
    "voting.fit(x_train, y_train) \n",
    "\n",
    "for clf in (model8, model9, model3, model4, model5, model6, model7, voting):\n",
    "    train_start_time=time.time()\n",
    "    clf.fit(x_train, y_train)\n",
    "    train_end_time=time.time()\n",
    "    test_start_time=time.time()\n",
    "    y_pred = clf.predict(x_test)\n",
    "    test_end_time=time.time()\n",
    "    print(clf.__class__.__name__, 'accuracy : ', accuracy_score(y_test, y_pred))\n",
    "    print(clf.__class__.__name__, 'precision : ', precision_score(y_test, y_pred, average='weighted', labels=np.unique(y_pred)))\n",
    "    print(clf.__class__.__name__, 'recall : ', recall_score(y_test, y_pred, average='weighted', labels=np.unique(y_pred)))\n",
    "    print(clf.__class__.__name__, 'f1_score : ', f1_score(y_test, y_pred, average='weighted', labels=np.unique(y_pred)))\n",
    "    print(clf.__class__.__name__, 'train time : ', train_end_time-train_start_time, ' sec')\n",
    "    print(clf.__class__.__name__, 'test time : ', test_end_time-test_start_time, ' sec')\n",
    "    print('\\n')"
   ]
  },
  {
   "cell_type": "code",
   "execution_count": 7,
   "metadata": {},
   "outputs": [
    {
     "name": "stderr",
     "output_type": "stream",
     "text": [
      "c:\\Users\\sharm\\anaconda3\\lib\\site-packages\\sklearn\\linear_model\\_logistic.py:814: ConvergenceWarning: lbfgs failed to converge (status=1):\n",
      "STOP: TOTAL NO. of ITERATIONS REACHED LIMIT.\n",
      "\n",
      "Increase the number of iterations (max_iter) or scale the data as shown in:\n",
      "    https://scikit-learn.org/stable/modules/preprocessing.html\n",
      "Please also refer to the documentation for alternative solver options:\n",
      "    https://scikit-learn.org/stable/modules/linear_model.html#logistic-regression\n",
      "  n_iter_i = _check_optimize_result(\n"
     ]
    },
    {
     "name": "stdout",
     "output_type": "stream",
     "text": [
      "DecisionTreeClassifier accuracy :  0.9741813602015114\n",
      "DecisionTreeClassifier precision :  0.9744524666417227\n",
      "DecisionTreeClassifier recall :  0.9741813602015114\n",
      "DecisionTreeClassifier f1_score :  0.9742328707262286\n",
      "DecisionTreeClassifier train time :  0.05285954475402832  sec\n",
      "DecisionTreeClassifier test time :  0.010970830917358398  sec\n",
      "\n",
      "\n"
     ]
    },
    {
     "name": "stderr",
     "output_type": "stream",
     "text": [
      "c:\\Users\\sharm\\anaconda3\\lib\\site-packages\\sklearn\\linear_model\\_logistic.py:814: ConvergenceWarning: lbfgs failed to converge (status=1):\n",
      "STOP: TOTAL NO. of ITERATIONS REACHED LIMIT.\n",
      "\n",
      "Increase the number of iterations (max_iter) or scale the data as shown in:\n",
      "    https://scikit-learn.org/stable/modules/preprocessing.html\n",
      "Please also refer to the documentation for alternative solver options:\n",
      "    https://scikit-learn.org/stable/modules/linear_model.html#logistic-regression\n",
      "  n_iter_i = _check_optimize_result(\n"
     ]
    },
    {
     "name": "stdout",
     "output_type": "stream",
     "text": [
      "LogisticRegression accuracy :  0.3929471032745592\n",
      "LogisticRegression precision :  0.37884076710081077\n",
      "LogisticRegression recall :  0.3929471032745592\n",
      "LogisticRegression f1_score :  0.37001892986061746\n",
      "LogisticRegression train time :  1.2422375679016113  sec\n",
      "LogisticRegression test time :  0.0039882659912109375  sec\n",
      "\n",
      "\n",
      "SVC accuracy :  0.5661209068010076\n",
      "SVC precision :  0.6285123146639885\n",
      "SVC recall :  0.5661209068010076\n",
      "SVC f1_score :  0.5627251437749703\n",
      "SVC train time :  3.8748342990875244  sec\n",
      "SVC test time :  1.183635950088501  sec\n",
      "\n",
      "\n",
      "GaussianNB accuracy :  0.5100755667506297\n",
      "GaussianNB precision :  0.5249892809142114\n",
      "GaussianNB recall :  0.5100755667506297\n",
      "GaussianNB f1_score :  0.5127229020971142\n",
      "GaussianNB train time :  0.015954971313476562  sec\n",
      "GaussianNB test time :  0.004987001419067383  sec\n",
      "\n",
      "\n",
      "RandomForestClassifier accuracy :  0.9874055415617129\n",
      "RandomForestClassifier precision :  0.987535730183833\n",
      "RandomForestClassifier recall :  0.9874055415617129\n",
      "RandomForestClassifier f1_score :  0.9874392841960244\n",
      "RandomForestClassifier train time :  1.5591065883636475  sec\n",
      "RandomForestClassifier test time :  0.11968326568603516  sec\n",
      "\n",
      "\n",
      "LinearDiscriminantAnalysis accuracy :  0.3721662468513854\n",
      "LinearDiscriminantAnalysis precision :  0.382634477876954\n",
      "LinearDiscriminantAnalysis recall :  0.3721662468513854\n",
      "LinearDiscriminantAnalysis f1_score :  0.3483982859240781\n",
      "LinearDiscriminantAnalysis train time :  0.027933120727539062  sec\n",
      "LinearDiscriminantAnalysis test time :  0.004979372024536133  sec\n",
      "\n",
      "\n",
      "KNeighborsClassifier accuracy :  0.9534005037783375\n",
      "KNeighborsClassifier precision :  0.9548374475155568\n",
      "KNeighborsClassifier recall :  0.9534005037783375\n",
      "KNeighborsClassifier f1_score :  0.9536773869090939\n",
      "KNeighborsClassifier train time :  0.019946813583374023  sec\n",
      "KNeighborsClassifier test time :  0.17253804206848145  sec\n",
      "\n",
      "\n"
     ]
    },
    {
     "name": "stderr",
     "output_type": "stream",
     "text": [
      "c:\\Users\\sharm\\anaconda3\\lib\\site-packages\\sklearn\\linear_model\\_logistic.py:814: ConvergenceWarning: lbfgs failed to converge (status=1):\n",
      "STOP: TOTAL NO. of ITERATIONS REACHED LIMIT.\n",
      "\n",
      "Increase the number of iterations (max_iter) or scale the data as shown in:\n",
      "    https://scikit-learn.org/stable/modules/preprocessing.html\n",
      "Please also refer to the documentation for alternative solver options:\n",
      "    https://scikit-learn.org/stable/modules/linear_model.html#logistic-regression\n",
      "  n_iter_i = _check_optimize_result(\n"
     ]
    },
    {
     "name": "stdout",
     "output_type": "stream",
     "text": [
      "VotingClassifier accuracy :  0.8192695214105793\n",
      "VotingClassifier precision :  0.8450285317406246\n",
      "VotingClassifier recall :  0.8192695214105793\n",
      "VotingClassifier f1_score :  0.8231288507873644\n",
      "VotingClassifier train time :  5.410518407821655  sec\n",
      "VotingClassifier test time :  2.209104061126709  sec\n",
      "\n",
      "\n"
     ]
    }
   ],
   "source": [
    "voting = VotingClassifier(estimators=[('CART', model7), ('LR', model4), ('SVM', model8), ('Naive-Bayes', model9), ('RF', model3), ('LDA', model5), ('KNN', model6)], voting='hard')\n",
    "voting.fit(x_train, y_train) \n",
    "\n",
    "for clf in (model7, model4, model8, model9, model3, model5, model6,  voting):\n",
    "    train_start_time=time.time()\n",
    "    clf.fit(x_train, y_train)\n",
    "    train_end_time=time.time()\n",
    "    test_start_time=time.time()\n",
    "    y_pred = clf.predict(x_test)\n",
    "    test_end_time=time.time()\n",
    "    print(clf.__class__.__name__, 'accuracy : ', accuracy_score(y_test, y_pred))\n",
    "    print(clf.__class__.__name__, 'precision : ', precision_score(y_test, y_pred, average='weighted', labels=np.unique(y_pred)))\n",
    "    print(clf.__class__.__name__, 'recall : ', recall_score(y_test, y_pred, average='weighted', labels=np.unique(y_pred)))\n",
    "    print(clf.__class__.__name__, 'f1_score : ', f1_score(y_test, y_pred, average='weighted', labels=np.unique(y_pred)))\n",
    "    print(clf.__class__.__name__, 'train time : ', train_end_time-train_start_time, ' sec')\n",
    "    print(clf.__class__.__name__, 'test time : ', test_end_time-test_start_time, ' sec')\n",
    "    print('\\n')"
   ]
  }
 ],
 "metadata": {
  "interpreter": {
   "hash": "5f6247e46243fae38f756a3367accf9bc6ec279e28af7eb851faffe5203616a0"
  },
  "kernelspec": {
   "display_name": "Python 3.9.12 ('base')",
   "language": "python",
   "name": "python3"
  },
  "language_info": {
   "codemirror_mode": {
    "name": "ipython",
    "version": 3
   },
   "file_extension": ".py",
   "mimetype": "text/x-python",
   "name": "python",
   "nbconvert_exporter": "python",
   "pygments_lexer": "ipython3",
   "version": "3.9.12"
  },
  "orig_nbformat": 4
 },
 "nbformat": 4,
 "nbformat_minor": 2
}
